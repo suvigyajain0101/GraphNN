{
  "nbformat": 4,
  "nbformat_minor": 0,
  "metadata": {
    "colab": {
      "provenance": [],
      "authorship_tag": "ABX9TyMOhbCAC0lswMF/5wfEDB3r"
    },
    "kernelspec": {
      "name": "python3",
      "display_name": "Python 3"
    },
    "language_info": {
      "name": "python"
    }
  },
  "cells": [
    {
      "cell_type": "markdown",
      "source": [
        "Graph Convolutional Networks populates same weight for every neighbor. But this may not be necessarily true. Some nodes are more important than others! \n",
        "\n",
        "Graph Attention Networks offer a solution to this problem. To consider the importance of each neighbor, an attention mechanism assigns a weighting factor to every connection."
      ],
      "metadata": {
        "id": "WWyNoS273aGN"
      }
    },
    {
      "cell_type": "code",
      "source": [
        "# Install PyTorch Geometric\n",
        "import torch\n",
        "!pip install -q torch-scatter -f https://data.pyg.org/whl/torch-{torch.__version__}.html\n",
        "!pip install -q torch-sparse -f https://data.pyg.org/whl/torch-{torch.__version__}.html\n",
        "!pip install -q git+https://github.com/pyg-team/pytorch_geometric.git\n",
        "\n",
        "# Numpy for matrices\n",
        "import numpy as np\n",
        "\n",
        "# Visualization libraries\n",
        "import matplotlib.pyplot as plt\n",
        "import networkx as nx"
      ],
      "metadata": {
        "colab": {
          "base_uri": "https://localhost:8080/"
        },
        "id": "WFETMrne5san",
        "outputId": "145be857-2830-43c8-b98b-bf2f0ad5bb73"
      },
      "execution_count": 1,
      "outputs": [
        {
          "output_type": "stream",
          "name": "stdout",
          "text": [
            "\u001b[2K     \u001b[90m━━━━━━━━━━━━━━━━━━━━━━━━━━━━━━━━━━━━━━━━\u001b[0m \u001b[32m10.2/10.2 MB\u001b[0m \u001b[31m24.2 MB/s\u001b[0m eta \u001b[36m0:00:00\u001b[0m\n",
            "\u001b[2K     \u001b[90m━━━━━━━━━━━━━━━━━━━━━━━━━━━━━━━━━━━━━━━━\u001b[0m \u001b[32m4.8/4.8 MB\u001b[0m \u001b[31m49.9 MB/s\u001b[0m eta \u001b[36m0:00:00\u001b[0m\n",
            "\u001b[?25h  Installing build dependencies ... \u001b[?25l\u001b[?25hdone\n",
            "  Getting requirements to build wheel ... \u001b[?25l\u001b[?25hdone\n",
            "  Preparing metadata (pyproject.toml) ... \u001b[?25l\u001b[?25hdone\n",
            "  Building wheel for torch_geometric (pyproject.toml) ... \u001b[?25l\u001b[?25hdone\n"
          ]
        }
      ]
    },
    {
      "cell_type": "code",
      "source": [
        "from torch_geometric.datasets import Planetoid\n",
        "\n",
        "# Import dataset from PyTorch Geometric\n",
        "dataset = Planetoid(root=\".\", name=\"CiteSeer\")\n",
        "\n",
        "data = dataset[0]\n",
        "\n",
        "# Print information about the dataset\n",
        "print(f'Number of graphs: {len(dataset)}')\n",
        "print(f'Number of nodes: {dataset[0].x.shape[0]}')\n",
        "print(f'Number of features: {dataset.num_features}')\n",
        "print(f'Number of classes: {dataset.num_classes}')\n",
        "print(f'Has isolated nodes: {dataset[0].has_isolated_nodes()}')"
      ],
      "metadata": {
        "colab": {
          "base_uri": "https://localhost:8080/"
        },
        "id": "KybkeC8a5aGN",
        "outputId": "5fcc4ff7-615a-49dc-fc00-ec8015334762"
      },
      "execution_count": 9,
      "outputs": [
        {
          "output_type": "stream",
          "name": "stdout",
          "text": [
            "Number of graphs: 1\n",
            "Number of nodes: 3327\n",
            "Number of features: 3703\n",
            "Number of classes: 6\n",
            "Has isolated nodes: True\n"
          ]
        }
      ]
    },
    {
      "cell_type": "markdown",
      "source": [
        "Let’s plot the number of connections of each node with degree:"
      ],
      "metadata": {
        "id": "V1LI2al05oWe"
      }
    },
    {
      "cell_type": "code",
      "source": [
        "from torch_geometric.utils import degree\n",
        "from collections import Counter\n",
        "\n",
        "# Get list of degrees for each node\n",
        "degrees = degree(data.edge_index[0]).numpy()\n",
        "\n",
        "# Count the number of nodes for each degree\n",
        "numbers = Counter(degrees)\n",
        "\n",
        "# Bar plot\n",
        "fig, ax = plt.subplots(figsize=(10, 4))\n",
        "ax.set_xlabel('Node degree')\n",
        "ax.set_ylabel('Number of nodes')\n",
        "plt.bar(numbers.keys(),\n",
        "        numbers.values(),\n",
        "        color='#0A047A')"
      ],
      "metadata": {
        "colab": {
          "base_uri": "https://localhost:8080/",
          "height": 405
        },
        "id": "tGdY8enn6k90",
        "outputId": "22df5022-7eb9-4320-e538-d2f55873156d"
      },
      "execution_count": 12,
      "outputs": [
        {
          "output_type": "execute_result",
          "data": {
            "text/plain": [
              "<BarContainer object of 32 artists>"
            ]
          },
          "metadata": {},
          "execution_count": 12
        },
        {
          "output_type": "display_data",
          "data": {
            "text/plain": [
              "<Figure size 1000x400 with 1 Axes>"
            ],
            "image/png": "[encoded data removed]"
          },
          "metadata": {}
        }
      ]
    },
    {
      "cell_type": "code",
      "source": [
        "print('Max Node Degree: ', max(numbers, key=numbers.get), ', No. of edges: ', numbers[max(numbers, key=numbers.get)])\n",
        "print('Min Node Degree: ', min(numbers, key=numbers.get), ', No. of edges: ', numbers[min(numbers, key=numbers.get)])"
      ],
      "metadata": {
        "colab": {
          "base_uri": "https://localhost:8080/"
        },
        "id": "EZz4MqNO6mx8",
        "outputId": "dd4ad7e9-1692-4171-ecc9-d2729bc0c00e"
      },
      "execution_count": 13,
      "outputs": [
        {
          "output_type": "stream",
          "name": "stdout",
          "text": [
            "Max Node Degree:  1.0 , No. of edges:  1331\n",
            "Min Node Degree:  22.0 , No. of edges:  1\n"
          ]
        }
      ]
    },
    {
      "cell_type": "code",
      "source": [
        "import torch.nn.functional as F\n",
        "from torch.nn import Linear, Dropout\n",
        "from torch_geometric.nn import GCNConv, GATv2Conv\n",
        "\n",
        "\n",
        "class GCN(torch.nn.Module):\n",
        "  \"\"\"Graph Convolutional Network\"\"\"\n",
        "  def __init__(self, dim_in, dim_h, dim_out):\n",
        "    super().__init__()\n",
        "    self.gcn1 = GCNConv(dim_in, dim_h)\n",
        "    self.gcn2 = GCNConv(dim_h, dim_out)\n",
        "    self.optimizer = torch.optim.Adam(self.parameters(),\n",
        "                                      lr=0.01,\n",
        "                                      weight_decay=5e-4)\n",
        "\n",
        "  def forward(self, x, edge_index):\n",
        "    h = F.dropout(x, p=0.5, training=self.training)\n",
        "    h = self.gcn1(h, edge_index)\n",
        "    h = torch.relu(h)\n",
        "    h = F.dropout(h, p=0.5, training=self.training)\n",
        "    h = self.gcn2(h, edge_index)\n",
        "    return h, F.log_softmax(h, dim=1)\n",
        "\n",
        "\n",
        "class GAT(torch.nn.Module):\n",
        "  \"\"\"Graph Attention Network\"\"\"\n",
        "  def __init__(self, dim_in, dim_h, dim_out, heads=8):\n",
        "    super().__init__()\n",
        "    self.gat1 = GATv2Conv(dim_in, dim_h, heads=heads)\n",
        "    self.gat2 = GATv2Conv(dim_h*heads, dim_out, heads=1)\n",
        "    self.optimizer = torch.optim.Adam(self.parameters(),\n",
        "                                      lr=0.005,\n",
        "                                      weight_decay=5e-4)\n",
        "\n",
        "  def forward(self, x, edge_index):\n",
        "    h = F.dropout(x, p=0.6, training=self.training)\n",
        "    h = self.gat1(x, edge_index)\n",
        "    h = F.elu(h)\n",
        "    h = F.dropout(h, p=0.6, training=self.training)\n",
        "    h = self.gat2(h, edge_index)\n",
        "    return h, F.log_softmax(h, dim=1)\n",
        "\n",
        "def accuracy(pred_y, y):\n",
        "    \"\"\"Calculate accuracy.\"\"\"\n",
        "    return ((pred_y == y).sum() / len(y)).item()\n",
        "\n",
        "def train(model, data):\n",
        "    \"\"\"Train a GNN model and return the trained model.\"\"\"\n",
        "    criterion = torch.nn.CrossEntropyLoss()\n",
        "    optimizer = model.optimizer\n",
        "    epochs = 200\n",
        "\n",
        "    model.train()\n",
        "    for epoch in range(epochs+1):\n",
        "        # Training\n",
        "        optimizer.zero_grad()\n",
        "        _, out = model(data.x, data.edge_index)\n",
        "        loss = criterion(out[data.train_mask], data.y[data.train_mask])\n",
        "        acc = accuracy(out[data.train_mask].argmax(dim=1), data.y[data.train_mask])\n",
        "        loss.backward()\n",
        "        optimizer.step()\n",
        "\n",
        "        # Validation\n",
        "        val_loss = criterion(out[data.val_mask], data.y[data.val_mask])\n",
        "        val_acc = accuracy(out[data.val_mask].argmax(dim=1), data.y[data.val_mask])\n",
        "\n",
        "        # Print metrics every 10 epochs\n",
        "        if(epoch % 10 == 0):\n",
        "            print(f'Epoch {epoch:>3} | Train Loss: {loss:.3f} | Train Acc: '\n",
        "                  f'{acc*100:>6.2f}% | Val Loss: {val_loss:.2f} | '\n",
        "                  f'Val Acc: {val_acc*100:.2f}%')\n",
        "          \n",
        "    return model\n",
        "\n",
        "def test(model, data):\n",
        "    \"\"\"Evaluate the model on test set and print the accuracy score.\"\"\"\n",
        "    model.eval()\n",
        "    _, out = model(data.x, data.edge_index)\n",
        "    acc = accuracy(out.argmax(dim=1)[data.test_mask], data.y[data.test_mask])\n",
        "    return acc"
      ],
      "metadata": {
        "id": "sXp4v8fusXMM"
      },
      "execution_count": 15,
      "outputs": []
    },
    {
      "cell_type": "code",
      "source": [
        "%%time\n",
        "\n",
        "# Create GCN\n",
        "gcn = GCN(dataset.num_features, 16, dataset.num_classes)\n",
        "print(gcn)\n",
        "\n",
        "# Train\n",
        "train(gcn, data)\n",
        "\n",
        "# Test\n",
        "acc = test(gcn, data)\n",
        "print(f'GCN test accuracy: {acc*100:.2f}%\\n')"
      ],
      "metadata": {
        "colab": {
          "base_uri": "https://localhost:8080/"
        },
        "id": "AFSqNsfnw0V1",
        "outputId": "0cdd3a3f-4914-469c-fbb3-2a28818ee8a6"
      },
      "execution_count": 16,
      "outputs": [
        {
          "output_type": "stream",
          "name": "stdout",
          "text": [
            "GCN(\n",
            "  (gcn1): GCNConv(3703, 16)\n",
            "  (gcn2): GCNConv(16, 6)\n",
            ")\n",
            "Epoch   0 | Train Loss: 1.802 | Train Acc:  16.67% | Val Loss: 1.78 | Val Acc: 17.80%\n",
            "Epoch  10 | Train Loss: 0.436 | Train Acc:  95.83% | Val Loss: 1.23 | Val Acc: 57.60%\n",
            "Epoch  20 | Train Loss: 0.149 | Train Acc:  97.50% | Val Loss: 1.26 | Val Acc: 60.00%\n",
            "Epoch  30 | Train Loss: 0.088 | Train Acc:  97.50% | Val Loss: 1.42 | Val Acc: 57.60%\n",
            "Epoch  40 | Train Loss: 0.067 | Train Acc:  98.33% | Val Loss: 1.46 | Val Acc: 60.60%\n",
            "Epoch  50 | Train Loss: 0.042 | Train Acc: 100.00% | Val Loss: 1.45 | Val Acc: 58.80%\n",
            "Epoch  60 | Train Loss: 0.044 | Train Acc: 100.00% | Val Loss: 1.40 | Val Acc: 57.60%\n",
            "Epoch  70 | Train Loss: 0.043 | Train Acc: 100.00% | Val Loss: 1.48 | Val Acc: 57.40%\n",
            "Epoch  80 | Train Loss: 0.035 | Train Acc:  99.17% | Val Loss: 1.55 | Val Acc: 60.00%\n",
            "Epoch  90 | Train Loss: 0.029 | Train Acc: 100.00% | Val Loss: 1.52 | Val Acc: 60.00%\n",
            "Epoch 100 | Train Loss: 0.048 | Train Acc:  98.33% | Val Loss: 1.49 | Val Acc: 60.80%\n",
            "Epoch 110 | Train Loss: 0.050 | Train Acc:  99.17% | Val Loss: 1.37 | Val Acc: 60.40%\n",
            "Epoch 120 | Train Loss: 0.041 | Train Acc: 100.00% | Val Loss: 1.50 | Val Acc: 60.60%\n",
            "Epoch 130 | Train Loss: 0.068 | Train Acc:  98.33% | Val Loss: 1.46 | Val Acc: 60.40%\n",
            "Epoch 140 | Train Loss: 0.022 | Train Acc: 100.00% | Val Loss: 1.62 | Val Acc: 58.00%\n",
            "Epoch 150 | Train Loss: 0.040 | Train Acc:  99.17% | Val Loss: 1.53 | Val Acc: 59.40%\n",
            "Epoch 160 | Train Loss: 0.036 | Train Acc: 100.00% | Val Loss: 1.61 | Val Acc: 58.80%\n",
            "Epoch 170 | Train Loss: 0.029 | Train Acc:  99.17% | Val Loss: 1.49 | Val Acc: 59.80%\n",
            "Epoch 180 | Train Loss: 0.040 | Train Acc:  99.17% | Val Loss: 1.52 | Val Acc: 59.20%\n",
            "Epoch 190 | Train Loss: 0.032 | Train Acc:  99.17% | Val Loss: 1.70 | Val Acc: 59.00%\n",
            "Epoch 200 | Train Loss: 0.048 | Train Acc:  98.33% | Val Loss: 1.50 | Val Acc: 61.20%\n",
            "GCN test accuracy: 67.50%\n",
            "\n",
            "CPU times: user 19.4 s, sys: 18.1 s, total: 37.5 s\n",
            "Wall time: 37.9 s\n"
          ]
        }
      ]
    },
    {
      "cell_type": "code",
      "source": [],
      "metadata": {
        "id": "AJnp7f0Tw151"
      },
      "execution_count": null,
      "outputs": []
    }
  ]
}